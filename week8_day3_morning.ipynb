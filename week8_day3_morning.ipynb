{
 "cells": [
  {
   "cell_type": "markdown",
   "metadata": {},
   "source": [
    "# Morning lab"
   ]
  },
  {
   "cell_type": "code",
   "execution_count": 1,
   "metadata": {
    "id": "gVhhIbWplPsU"
   },
   "outputs": [],
   "source": [
    "#import statsmodels.api as sm\n",
    "#from statsmodels.formula.api import ols\n",
    "import pandas as pd\n",
    "import numpy as np\n",
    "import scipy.stats as stats"
   ]
  },
  {
   "cell_type": "code",
   "execution_count": 3,
   "metadata": {},
   "outputs": [],
   "source": [
    "# •\tState the null hypothesis\n",
    "# Different plasma beam power does not influence the etching rate.\n",
    "\n",
    "# •\tState the alternate hypothesis\n",
    "# There is at least one plasma beam power that influence the etching rate.\n",
    "\n",
    "#•\tWhat is the significance level\n",
    "#alpha = 0.05\n",
    "\n",
    "\n",
    "#•\tWhat are the degrees of freedom of model, error terms, and total DoF\n",
    "#Degrees of freedom in numerator – 2\n",
    "#Degrees of freedom in denominator – 12\n"
   ]
  },
  {
   "cell_type": "code",
   "execution_count": 2,
   "metadata": {
    "colab": {
     "base_uri": "https://localhost:8080/",
     "height": 644
    },
    "id": "e7iDIu2EldL-",
    "outputId": "2fb1f2d8-912c-4ef2-90a6-7638690221cb"
   },
   "outputs": [
    {
     "data": {
      "text/html": [
       "<div>\n",
       "<style scoped>\n",
       "    .dataframe tbody tr th:only-of-type {\n",
       "        vertical-align: middle;\n",
       "    }\n",
       "\n",
       "    .dataframe tbody tr th {\n",
       "        vertical-align: top;\n",
       "    }\n",
       "\n",
       "    .dataframe thead th {\n",
       "        text-align: right;\n",
       "    }\n",
       "</style>\n",
       "<table border=\"1\" class=\"dataframe\">\n",
       "  <thead>\n",
       "    <tr style=\"text-align: right;\">\n",
       "      <th></th>\n",
       "      <th>Power</th>\n",
       "      <th>Etching Rate</th>\n",
       "    </tr>\n",
       "  </thead>\n",
       "  <tbody>\n",
       "    <tr>\n",
       "      <th>0</th>\n",
       "      <td>160 W</td>\n",
       "      <td>5.43</td>\n",
       "    </tr>\n",
       "    <tr>\n",
       "      <th>1</th>\n",
       "      <td>180 W</td>\n",
       "      <td>6.24</td>\n",
       "    </tr>\n",
       "    <tr>\n",
       "      <th>2</th>\n",
       "      <td>200 W</td>\n",
       "      <td>8.79</td>\n",
       "    </tr>\n",
       "    <tr>\n",
       "      <th>3</th>\n",
       "      <td>160 W</td>\n",
       "      <td>5.71</td>\n",
       "    </tr>\n",
       "    <tr>\n",
       "      <th>4</th>\n",
       "      <td>180 W</td>\n",
       "      <td>6.71</td>\n",
       "    </tr>\n",
       "    <tr>\n",
       "      <th>5</th>\n",
       "      <td>200 W</td>\n",
       "      <td>9.20</td>\n",
       "    </tr>\n",
       "    <tr>\n",
       "      <th>6</th>\n",
       "      <td>160 W</td>\n",
       "      <td>6.22</td>\n",
       "    </tr>\n",
       "    <tr>\n",
       "      <th>7</th>\n",
       "      <td>180 W</td>\n",
       "      <td>5.98</td>\n",
       "    </tr>\n",
       "    <tr>\n",
       "      <th>8</th>\n",
       "      <td>200 W</td>\n",
       "      <td>7.90</td>\n",
       "    </tr>\n",
       "    <tr>\n",
       "      <th>9</th>\n",
       "      <td>160 W</td>\n",
       "      <td>6.01</td>\n",
       "    </tr>\n",
       "    <tr>\n",
       "      <th>10</th>\n",
       "      <td>180 W</td>\n",
       "      <td>5.66</td>\n",
       "    </tr>\n",
       "    <tr>\n",
       "      <th>11</th>\n",
       "      <td>200 W</td>\n",
       "      <td>8.15</td>\n",
       "    </tr>\n",
       "    <tr>\n",
       "      <th>12</th>\n",
       "      <td>160 W</td>\n",
       "      <td>5.59</td>\n",
       "    </tr>\n",
       "    <tr>\n",
       "      <th>13</th>\n",
       "      <td>180 W</td>\n",
       "      <td>6.60</td>\n",
       "    </tr>\n",
       "    <tr>\n",
       "      <th>14</th>\n",
       "      <td>200 W</td>\n",
       "      <td>7.55</td>\n",
       "    </tr>\n",
       "  </tbody>\n",
       "</table>\n",
       "</div>"
      ],
      "text/plain": [
       "   Power   Etching Rate\n",
       "0   160 W          5.43\n",
       "1   180 W          6.24\n",
       "2   200 W          8.79\n",
       "3   160 W          5.71\n",
       "4   180 W          6.71\n",
       "5   200 W          9.20\n",
       "6   160 W          6.22\n",
       "7   180 W          5.98\n",
       "8   200 W          7.90\n",
       "9   160 W          6.01\n",
       "10  180 W          5.66\n",
       "11  200 W          8.15\n",
       "12  160 W          5.59\n",
       "13  180 W          6.60\n",
       "14  200 W          7.55"
      ]
     },
     "execution_count": 2,
     "metadata": {},
     "output_type": "execute_result"
    }
   ],
   "source": [
    "data = pd.read_excel('anova_lab_data.xlsx', sheet_name='data_collected')\n",
    "data"
   ]
  },
  {
   "cell_type": "code",
   "execution_count": 6,
   "metadata": {},
   "outputs": [],
   "source": [
    "data.columns = ['Power', 'Etching Rate']"
   ]
  },
  {
   "cell_type": "code",
   "execution_count": 7,
   "metadata": {
    "colab": {
     "base_uri": "https://localhost:8080/"
    },
    "id": "IWOrdr4oPlj_",
    "outputId": "1225f11d-8081-474a-fd8c-35db988b9136"
   },
   "outputs": [
    {
     "name": "stdout",
     "output_type": "stream",
     "text": [
      "Global mean 6.782666666666667\n",
      "The group means are:  [('160 W', 5.792), ('180 W', 6.2379999999999995), ('200 W', 8.318)]\n"
     ]
    }
   ],
   "source": [
    "# Global mean:\n",
    "gm = np.mean(data['Etching Rate'])\n",
    "print(\"Global mean\",gm)\n",
    "\n",
    "# Mean of every group:\n",
    "group_averages = [(group,np.mean(data[data['Power'] == group]['Etching Rate'])) for group in list(data['Power'].unique())] \n",
    "print(\"The group means are: \",group_averages)"
   ]
  },
  {
   "cell_type": "markdown",
   "metadata": {
    "id": "8Z6qqkHTQlQn"
   },
   "source": [
    "Now we can compute the numerator of F:"
   ]
  },
  {
   "cell_type": "code",
   "execution_count": 8,
   "metadata": {
    "colab": {
     "base_uri": "https://localhost:8080/"
    },
    "id": "GvSJJWK8QokH",
    "outputId": "a6ba2f9d-4b9c-49f9-8e2f-6d5c02d4afb5"
   },
   "outputs": [
    {
     "name": "stdout",
     "output_type": "stream",
     "text": [
      "\\hat{S}_{t}^{2} is:  9.088326666666667\n"
     ]
    }
   ],
   "source": [
    "numerator = 0\n",
    "for group in group_averages:\n",
    "    numerator += len(data[data['Power'] == group[0]]['Etching Rate'].values) * ( group[1] - gm )**2\n",
    "numerator = numerator / ( len(data['Power'].unique()) - 1 ) \n",
    "\n",
    "print(\"\\hat{S}_{t}^{2} is: \", numerator)"
   ]
  },
  {
   "cell_type": "markdown",
   "metadata": {
    "id": "H18ju-R9RLVZ"
   },
   "source": [
    "Now the denominator:"
   ]
  },
  {
   "cell_type": "code",
   "execution_count": 9,
   "metadata": {
    "colab": {
     "base_uri": "https://localhost:8080/"
    },
    "id": "XhKkWvNkRNFJ",
    "outputId": "77523742-7c7f-4b72-d898-302a4be5db5f"
   },
   "outputs": [
    {
     "name": "stdout",
     "output_type": "stream",
     "text": [
      "\\hat{S}_{e}^{2} is:  0.24643666666666644\n"
     ]
    }
   ],
   "source": [
    "denominator = 0\n",
    "for group in group_averages: \n",
    "    for value in data[data['Power'] == group[0]]['Etching Rate'].values:\n",
    "        denominator += (value - group[1])**2\n",
    "denominator = denominator / ( len(data) - len(data['Power'].unique()) )\n",
    "\n",
    "print(\"\\hat{S}_{e}^{2} is: \",denominator)"
   ]
  },
  {
   "cell_type": "markdown",
   "metadata": {
    "id": "-KAQE0oMReli"
   },
   "source": [
    "Now we can compute the ratio:"
   ]
  },
  {
   "cell_type": "code",
   "execution_count": 12,
   "metadata": {
    "colab": {
     "base_uri": "https://localhost:8080/"
    },
    "id": "Y9NdbWJgRgr-",
    "outputId": "62af6ca7-9d80-4a9c-8909-5de6dab5551b"
   },
   "outputs": [
    {
     "name": "stdout",
     "output_type": "stream",
     "text": [
      "The F statistic is:  36.88\n"
     ]
    }
   ],
   "source": [
    "F = numerator / denominator\n",
    "\n",
    "print(\"The F statistic is: \",round(F, 2))"
   ]
  },
  {
   "cell_type": "markdown",
   "metadata": {
    "id": "XYNP_M-tRsLm"
   },
   "source": [
    "Now let's get the critical value for F. \n",
    "\n",
    "Assuming a confidence interval of 95%, our significance level $\\alpha$ = 0.05. The degrees of freedom in the numerator is: (number of groups - 1) = 3 - 1 = 2. The number of degrees of freedom for the denominator is: ( number of records - number of groups ) = 15 - 4 = 12. \n",
    "\n",
    "If we go to the [F-Table](http://www.socr.ucla.edu/Applets.dir/F_Table.html), we get that the critical value for F is: 2.80680\n"
   ]
  },
  {
   "cell_type": "markdown",
   "metadata": {},
   "source": [
    "Now taking the decission using the F-critical value:\n",
    "\n",
    "As our F-statistic (36.88) > F-ctitical value (3.80), **we reject the H0**"
   ]
  },
  {
   "cell_type": "code",
   "execution_count": null,
   "metadata": {},
   "outputs": [],
   "source": []
  }
 ],
 "metadata": {
  "kernelspec": {
   "display_name": "Python 3",
   "language": "python",
   "name": "python3"
  },
  "language_info": {
   "codemirror_mode": {
    "name": "ipython",
    "version": 3
   },
   "file_extension": ".py",
   "mimetype": "text/x-python",
   "name": "python",
   "nbconvert_exporter": "python",
   "pygments_lexer": "ipython3",
   "version": "3.8.5"
  },
  "toc": {
   "base_numbering": 1,
   "nav_menu": {},
   "number_sections": true,
   "sideBar": true,
   "skip_h1_title": false,
   "title_cell": "Table of Contents",
   "title_sidebar": "Contents",
   "toc_cell": false,
   "toc_position": {},
   "toc_section_display": true,
   "toc_window_display": false
  },
  "varInspector": {
   "cols": {
    "lenName": 16,
    "lenType": 16,
    "lenVar": 40
   },
   "kernels_config": {
    "python": {
     "delete_cmd_postfix": "",
     "delete_cmd_prefix": "del ",
     "library": "var_list.py",
     "varRefreshCmd": "print(var_dic_list())"
    },
    "r": {
     "delete_cmd_postfix": ") ",
     "delete_cmd_prefix": "rm(",
     "library": "var_list.r",
     "varRefreshCmd": "cat(var_dic_list()) "
    }
   },
   "types_to_exclude": [
    "module",
    "function",
    "builtin_function_or_method",
    "instance",
    "_Feature"
   ],
   "window_display": false
  }
 },
 "nbformat": 4,
 "nbformat_minor": 4
}
